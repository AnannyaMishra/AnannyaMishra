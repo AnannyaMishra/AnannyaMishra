{
  "nbformat": 4,
  "nbformat_minor": 0,
  "metadata": {
    "colab": {
      "name": "number guessing game.ipynb",
      "provenance": [],
      "authorship_tag": "ABX9TyM6AFO3acXfrCajb74+SZ5h",
      "include_colab_link": true
    },
    "kernelspec": {
      "name": "python3",
      "display_name": "Python 3"
    },
    "language_info": {
      "name": "python"
    }
  },
  "cells": [
    {
      "cell_type": "markdown",
      "metadata": {
        "id": "view-in-github",
        "colab_type": "text"
      },
      "source": [
        "<a href=\"https://colab.research.google.com/github/AnannyaMishra/AnannyaMishra/blob/main/number_guessing_game.ipynb\" target=\"_parent\"><img src=\"https://colab.research.google.com/assets/colab-badge.svg\" alt=\"Open In Colab\"/></a>"
      ]
    },
    {
      "cell_type": "code",
      "execution_count": 20,
      "metadata": {
        "id": "EkgGs0s1ohO_"
      },
      "outputs": [],
      "source": [
        "import random\n",
        "attempts_list=[]\n",
        "def show_score():\n",
        "   if len(attempts_list)<= 0:\n",
        "    print(\"There is currently no high score,it's yours for the taking!\")\n",
        "   else:\n",
        "    print(\"The current high score is{} attempts\".format(min(attempt_list)))\n",
        "def start_game():\n",
        "      random_number=int(random.randint(1,10))\n",
        "      print(\"Hello traveler!Welcome to the game of guessing!\")\n",
        "      player_name=input(\"What is your name?\")\n",
        "      wanna_play=input(\"Hi,{},would you like to play the guessing game?(Enter Yes/No)\" .format(player_name))\n",
        "      attempts=0\n",
        "      show_score()\n",
        "      while wanna_play.lower()==\"yes\":\n",
        "        try:\n",
        "          guess=input(\"Pick a number between 1 and 10\")\n",
        "          if int(guess)< 1 or int(guess)> 10:\n",
        "              raise ValueError(\"Please guess a number within the given range\")\n",
        "          if int(guess)==random_number:\n",
        "              print(\"Nice!You got it!\")\n",
        "              attempts += 1\n",
        "              attempts_list.append(attempts)\n",
        "              print(\"it took you {} attempts\".format(attempts))\n",
        "              play_again=input(\"Would You like to play again?(Enter Yes/No)\")\n",
        "              attempts=0\n",
        "              show_score()\n",
        "              random_number=int(random.randint(1,10))\n",
        "              if play_again.lower()==\"no\":\n",
        "                print(\"That's cool have a good one!\")\n",
        "                break\n",
        "              elif int(guess)>random_number:\n",
        "                print(\"It's lower\")\n",
        "                attempts += 1\n",
        "              elif int(guess)<random_number:\n",
        "                print(\"It's higher\")\n",
        "                attempts += 1\n",
        "        except ValueError as err:\n",
        "                print(\"Oh No!that is not a valid value.Try again....\")\n",
        "                print(\"({})\".format(err))\n",
        "      else:\n",
        "              print(\"That is cool,have a good one!\")\n",
        "      if _name_ =='_main_':\n",
        "           state_game()\n"
      ]
    }
  ]
}