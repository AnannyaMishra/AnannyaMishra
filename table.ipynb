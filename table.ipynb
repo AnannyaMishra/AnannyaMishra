{
  "nbformat": 4,
  "nbformat_minor": 0,
  "metadata": {
    "colab": {
      "name": "table.ipynb",
      "provenance": [],
      "collapsed_sections": [],
      "authorship_tag": "ABX9TyMz7uccv09fSYdEIvn2WRY3",
      "include_colab_link": true
    },
    "kernelspec": {
      "name": "python3",
      "display_name": "Python 3"
    },
    "language_info": {
      "name": "python"
    }
  },
  "cells": [
    {
      "cell_type": "markdown",
      "metadata": {
        "id": "view-in-github",
        "colab_type": "text"
      },
      "source": [
        "<a href=\"https://colab.research.google.com/github/AnannyaMishra/AnannyaMishra/blob/main/table.ipynb\" target=\"_parent\"><img src=\"https://colab.research.google.com/assets/colab-badge.svg\" alt=\"Open In Colab\"/></a>"
      ]
    },
    {
      "cell_type": "code",
      "execution_count": null,
      "metadata": {
        "colab": {
          "base_uri": "https://localhost:8080/"
        },
        "id": "2n_S4OlySpee",
        "outputId": "9aa6767a-9c39-4118-c82c-7d589ae5d57e"
      },
      "outputs": [
        {
          "output_type": "stream",
          "name": "stdout",
          "text": [
            "Enter a number: 5\n",
            "5 x 1 = 5\n",
            "5 x 2 = 5\n",
            "5 x 3 = 5\n",
            "5 x 4 = 5\n",
            "5 x 5 = 5\n",
            "5 x 6 = 5\n",
            "5 x 7 = 5\n",
            "5 x 8 = 5\n",
            "5 x 9 = 5\n",
            "5 x 10 = 5\n"
          ]
        }
      ],
      "source": [
        "num=int(input('Enter a number: '))\n",
        "for i in range(1,11):\n",
        "  print(num,'x',i,'=',num*i)"
      ]
    },
    {
      "cell_type": "code",
      "source": [
        "num=5\n",
        "for i in range(1,11):\n",
        "  print(num,'x',i,'=',num*i)"
      ],
      "metadata": {
        "colab": {
          "base_uri": "https://localhost:8080/"
        },
        "id": "8LLFWwZ2WXMa",
        "outputId": "3289945e-3ffb-4ef8-db06-7d1b3bd05900"
      },
      "execution_count": null,
      "outputs": [
        {
          "output_type": "stream",
          "name": "stdout",
          "text": [
            "5 x 1 = 5\n",
            "5 x 2 = 10\n",
            "5 x 3 = 15\n",
            "5 x 4 = 20\n",
            "5 x 5 = 25\n",
            "5 x 6 = 30\n",
            "5 x 7 = 35\n",
            "5 x 8 = 40\n",
            "5 x 9 = 45\n",
            "5 x 10 = 50\n"
          ]
        }
      ]
    },
    {
      "cell_type": "code",
      "source": [
        "num=int(input('Display multiplication table of: '))\n",
        "for i in range(1,11):\n",
        "  print(num,'x',i,'=',num*i)"
      ],
      "metadata": {
        "colab": {
          "base_uri": "https://localhost:8080/"
        },
        "id": "g-C8B6Q7Wwy9",
        "outputId": "217fcd43-782b-45d7-85c1-60a6a9336e6f"
      },
      "execution_count": null,
      "outputs": [
        {
          "output_type": "stream",
          "name": "stdout",
          "text": [
            "Display multiplication table of: 5\n",
            "5 x 1 = 5\n",
            "5 x 2 = 10\n",
            "5 x 3 = 15\n",
            "5 x 4 = 20\n",
            "5 x 5 = 25\n",
            "5 x 6 = 30\n",
            "5 x 7 = 35\n",
            "5 x 8 = 40\n",
            "5 x 9 = 45\n",
            "5 x 10 = 50\n"
          ]
        }
      ]
    }
  ]
}