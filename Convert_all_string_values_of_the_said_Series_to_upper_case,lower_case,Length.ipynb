{
  "nbformat": 4,
  "nbformat_minor": 0,
  "metadata": {
    "colab": {
      "name": "Convert all string values of the said Series to upper case,lower case,Length.ipynb",
      "provenance": [],
      "collapsed_sections": [],
      "authorship_tag": "ABX9TyPSowa4LF9ao4HbsK4Xk5Ai",
      "include_colab_link": true
    },
    "kernelspec": {
      "name": "python3",
      "display_name": "Python 3"
    },
    "language_info": {
      "name": "python"
    }
  },
  "cells": [
    {
      "cell_type": "markdown",
      "metadata": {
        "id": "view-in-github",
        "colab_type": "text"
      },
      "source": [
        "<a href=\"https://colab.research.google.com/github/AnannyaMishra/AnannyaMishra/blob/main/Convert_all_string_values_of_the_said_Series_to_upper_case%2Clower_case%2CLength.ipynb\" target=\"_parent\"><img src=\"https://colab.research.google.com/assets/colab-badge.svg\" alt=\"Open In Colab\"/></a>"
      ]
    },
    {
      "cell_type": "code",
      "execution_count": 3,
      "metadata": {
        "colab": {
          "base_uri": "https://localhost:8080/"
        },
        "id": "25T1s52sj-L1",
        "outputId": "976ce3dc-63c5-48d1-8d7b-43b267eccb4a"
      },
      "outputs": [
        {
          "output_type": "stream",
          "name": "stdout",
          "text": [
            "Original series:\n",
            "0         X\n",
            "1         Y\n",
            "2         Z\n",
            "3      Aaba\n",
            "4      Baca\n",
            "5       NaN\n",
            "6      CABA\n",
            "7      None\n",
            "8      bird\n",
            "9     horse\n",
            "10      dog\n",
            "dtype: object\n",
            "\n",
            "Convert all string values of the said Series to upper case:\n",
            "0         X\n",
            "1         Y\n",
            "2         Z\n",
            "3      AABA\n",
            "4      BACA\n",
            "5       NaN\n",
            "6      CABA\n",
            "7      None\n",
            "8      BIRD\n",
            "9     HORSE\n",
            "10      DOG\n",
            "dtype: object\n",
            "\n",
            "Convert all string values of the said Series to lower case:\n",
            "0         x\n",
            "1         y\n",
            "2         z\n",
            "3      aaba\n",
            "4      baca\n",
            "5       NaN\n",
            "6      caba\n",
            "7      None\n",
            "8      bird\n",
            "9     horse\n",
            "10      dog\n",
            "dtype: object\n",
            "\n",
            "Length of the string values of the said Series:\n",
            "0     1.0\n",
            "1     1.0\n",
            "2     1.0\n",
            "3     4.0\n",
            "4     4.0\n",
            "5     NaN\n",
            "6     4.0\n",
            "7     NaN\n",
            "8     4.0\n",
            "9     5.0\n",
            "10    3.0\n",
            "dtype: float64\n"
          ]
        }
      ],
      "source": [
        "import pandas as pd\n",
        "import numpy as np\n",
        "s = pd.Series(['X', 'Y', 'Z', 'Aaba', 'Baca', np.nan, 'CABA', None, 'bird', 'horse', 'dog'])\n",
        "print(\"Original series:\")\n",
        "print(s)\n",
        "print(\"\\nConvert all string values of the said Series to upper case:\")\n",
        "print(s.str.upper())\n",
        "print(\"\\nConvert all string values of the said Series to lower case:\")\n",
        "print(s.str.lower())\n",
        "print(\"\\nLength of the string values of the said Series:\")\n",
        "print(s.str.len()) "
      ]
    },
    {
      "cell_type": "code",
      "source": [
        ""
      ],
      "metadata": {
        "id": "JeW1AAZ-kGGQ"
      },
      "execution_count": null,
      "outputs": []
    }
  ]
}