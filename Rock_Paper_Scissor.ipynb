{
  "nbformat": 4,
  "nbformat_minor": 0,
  "metadata": {
    "colab": {
      "name": "Rock Paper Scissor.ipynb",
      "provenance": [],
      "collapsed_sections": [],
      "authorship_tag": "ABX9TyMswHYnmclZw2vDrggy/uD9",
      "include_colab_link": true
    },
    "kernelspec": {
      "name": "python3",
      "display_name": "Python 3"
    },
    "language_info": {
      "name": "python"
    }
  },
  "cells": [
    {
      "cell_type": "markdown",
      "metadata": {
        "id": "view-in-github",
        "colab_type": "text"
      },
      "source": [
        "<a href=\"https://colab.research.google.com/github/AnannyaMishra/AnannyaMishra/blob/main/Rock_Paper_Scissor.ipynb\" target=\"_parent\"><img src=\"https://colab.research.google.com/assets/colab-badge.svg\" alt=\"Open In Colab\"/></a>"
      ]
    },
    {
      "cell_type": "code",
      "execution_count": null,
      "metadata": {
        "id": "z-05Yk9JL8Fr"
      },
      "outputs": [],
      "source": [
        "print(\"Rock Paper Scissor,can you beat me?\")\n",
        "def main():\n",
        "  import random\n",
        "  possible_actions=[\"rock\",\"paper\",\"scissor\"]\n",
        "  rand=random.choice(possible_actions)\n",
        "  choice=input(\"Enter rock or paper or scissor:\\n\").lower()\n",
        "  if rand==choice:\n",
        "    print(f\"I chose {choice}too! It's a draw\")\n",
        "    main()\n",
        "  elif choice not in possible_actions:\n",
        "    print(\"Choose a valid option!\")\n",
        "    main()\n",
        "  elif rand==\"rock\" and choice==\"paper\":\n",
        "    print(\"I chose rock!You won!\")\n",
        "  elif rand==\"rock\" and choice==\"scissor\":\n",
        "    print(\"I chose rock! You won!\")\n",
        "  elif rand==\"paper\" and choice==\"rock\":\n",
        "    print(\"I chose paper! You won!\")\n",
        "  elif rand==\"paper\" and choice==\"scissor\":\n",
        "    print(\"I chose paper! You won!\")\n",
        "  elif rand==\"scissor\" and choice==\"rock\":\n",
        "    print(\"I chose scissor! You won!\")\n",
        "  elif rand==\"scissor\" and choice==\"paper\":\n",
        "    print(\"I chose scissor! You lost!\")\n",
        "  main()\n",
        "  while True:\n",
        "    again=input(\"Do you want to play again?Yes/No\\n\").lower()\n",
        "    if again==\"yes\":\n",
        "      main()\n",
        "    elif again==\"no\":\n",
        "      print(\"Bye\")\n",
        "      quit()"
      ]
    }
  ]
}
