{
  "nbformat": 4,
  "nbformat_minor": 0,
  "metadata": {
    "colab": {
      "name": "currentTime.ipynb",
      "provenance": [],
      "collapsed_sections": [],
      "authorship_tag": "ABX9TyMEz/QrxWxl5mNG9ZbK5FE4",
      "include_colab_link": true
    },
    "kernelspec": {
      "name": "python3",
      "display_name": "Python 3"
    },
    "language_info": {
      "name": "python"
    }
  },
  "cells": [
    {
      "cell_type": "markdown",
      "metadata": {
        "id": "view-in-github",
        "colab_type": "text"
      },
      "source": [
        "<a href=\"https://colab.research.google.com/github/AnannyaMishra/AnannyaMishra/blob/main/currentTime.ipynb\" target=\"_parent\"><img src=\"https://colab.research.google.com/assets/colab-badge.svg\" alt=\"Open In Colab\"/></a>"
      ]
    },
    {
      "cell_type": "code",
      "execution_count": null,
      "metadata": {
        "colab": {
          "base_uri": "https://localhost:8080/"
        },
        "id": "NySeKdNQsPap",
        "outputId": "ccf9e933-0ac2-4240-ebc7-5cfa69128539"
      },
      "outputs": [
        {
          "output_type": "stream",
          "name": "stdout",
          "text": [
            "INDIA time: 10:24:42\n"
          ]
        }
      ],
      "source": [
        "from datetime import*\n",
        "import pytz\n",
        "tz_INDIA=pytz.timezone('Asia/Kolkata')\n",
        "datetime_INDIA=datetime.now(tz_INDIA)\n",
        "print(\"INDIA time:\",datetime_INDIA.strftime(\"%H:%M:%S\"))"
      ]
    },
    {
      "cell_type": "code",
      "source": [
        "from datetime import datetime\n",
        "now_method=datetime.now()\n",
        "currentTime=now_method.strftime('%H:%M:%S')\n",
        "print('Current Time: ',currentTime)"
      ],
      "metadata": {
        "colab": {
          "base_uri": "https://localhost:8080/"
        },
        "id": "W-D3yxHIyL5d",
        "outputId": "3a34033f-5ac3-4d27-e0d2-f43f06aafc90"
      },
      "execution_count": null,
      "outputs": [
        {
          "output_type": "stream",
          "name": "stdout",
          "text": [
            "Current Time:  04:57:18\n"
          ]
        }
      ]
    },
    {
      "cell_type": "code",
      "source": [
        "from datetime import datetime\n",
        "time=datetime.now().time()\n",
        "print('Current Time: ',time)"
      ],
      "metadata": {
        "colab": {
          "base_uri": "https://localhost:8080/"
        },
        "id": "MltcvSFqyvVU",
        "outputId": "553391df-f7ff-4b58-f485-3a50d03a1417"
      },
      "execution_count": null,
      "outputs": [
        {
          "output_type": "stream",
          "name": "stdout",
          "text": [
            "Current Time:  04:59:23.611820\n"
          ]
        }
      ]
    }
  ]
}