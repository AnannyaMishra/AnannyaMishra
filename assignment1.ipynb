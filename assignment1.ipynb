{
  "nbformat": 4,
  "nbformat_minor": 0,
  "metadata": {
    "colab": {
      "name": "assignment1.ipynb",
      "provenance": [],
      "authorship_tag": "ABX9TyNERHBCOuqWYJJ4nvzqI9VN",
      "include_colab_link": true
    },
    "kernelspec": {
      "name": "python3",
      "display_name": "Python 3"
    },
    "language_info": {
      "name": "python"
    }
  },
  "cells": [
    {
      "cell_type": "markdown",
      "metadata": {
        "id": "view-in-github",
        "colab_type": "text"
      },
      "source": [
        "<a href=\"https://colab.research.google.com/github/AnannyaMishra/AnannyaMishra/blob/main/assignment1.ipynb\" target=\"_parent\"><img src=\"https://colab.research.google.com/assets/colab-badge.svg\" alt=\"Open In Colab\"/></a>"
      ]
    },
    {
      "cell_type": "code",
      "source": [
        "b=int(input(\"enter number:\"))\n",
        "sum=0\n",
        "x=1\n",
        "while x<=b:\n",
        "    sum+=x\n",
        "    x+=1\n",
        "    print('The sum of natural number=',sum)"
      ],
      "metadata": {
        "colab": {
          "base_uri": "https://localhost:8080/"
        },
        "id": "V0S_MXOjLq2n",
        "outputId": "2da5295e-489d-4f27-f756-0b693b6da11a"
      },
      "execution_count": 2,
      "outputs": [
        {
          "output_type": "stream",
          "name": "stdout",
          "text": [
            "enter number:6\n",
            "The sum of natural number= 1\n",
            "The sum of natural number= 3\n",
            "The sum of natural number= 6\n",
            "The sum of natural number= 10\n",
            "The sum of natural number= 15\n",
            "The sum of natural number= 21\n"
          ]
        }
      ]
    },
    {
      "cell_type": "code",
      "source": [
        "c=int(input('enter a number:'))\n",
        "fact=1\n",
        "for i in range(1,c+1):\n",
        "  fact=fact*i\n",
        "  print('the factorial of',c,'is',fact)"
      ],
      "metadata": {
        "colab": {
          "base_uri": "https://localhost:8080/"
        },
        "id": "Ecn2WJ_9MWND",
        "outputId": "83c0b139-4c35-4c85-b6b2-045282681b0c"
      },
      "execution_count": 5,
      "outputs": [
        {
          "output_type": "stream",
          "name": "stdout",
          "text": [
            "enter a number:5\n",
            "the factorial of 5 is 1\n",
            "the factorial of 5 is 2\n",
            "the factorial of 5 is 6\n",
            "the factorial of 5 is 24\n",
            "the factorial of 5 is 120\n"
          ]
        }
      ]
    },
    {
      "cell_type": "code",
      "source": [
        "d=int(input('enter any number'))\n",
        "print('the list of natural number from 1','to', d)\n",
        "for i in range(1,d+1):\n",
        "  print(i,end='')"
      ],
      "metadata": {
        "colab": {
          "base_uri": "https://localhost:8080/"
        },
        "id": "bvlv2mFqOqS_",
        "outputId": "a08288bb-25c1-4356-ba8b-c8fc1a55fcd7"
      },
      "execution_count": 10,
      "outputs": [
        {
          "output_type": "stream",
          "name": "stdout",
          "text": [
            "enter any number100\n",
            "the list of natural number from 1 to 100\n",
            "123456789101112131415161718192021222324252627282930313233343536373839404142434445464748495051525354555657585960616263646566676869707172737475767778798081828384858687888990919293949596979899100"
          ]
        }
      ]
    },
    {
      "cell_type": "code",
      "source": [
        "a=int(input('enter a number:'))\n",
        "for i in range(1,11):\n",
        "  print(a,'x',i,'=',a*i)"
      ],
      "metadata": {
        "colab": {
          "base_uri": "https://localhost:8080/"
        },
        "id": "E3feXAFNX8m5",
        "outputId": "0d4366b8-8475-4038-fecb-7c7df4a98379"
      },
      "execution_count": 13,
      "outputs": [
        {
          "output_type": "stream",
          "name": "stdout",
          "text": [
            "enter a number:10\n",
            "10 x 1 = 10\n",
            "10 x 2 = 20\n",
            "10 x 3 = 30\n",
            "10 x 4 = 40\n",
            "10 x 5 = 50\n",
            "10 x 6 = 60\n",
            "10 x 7 = 70\n",
            "10 x 8 = 80\n",
            "10 x 9 = 90\n",
            "10 x 10 = 100\n"
          ]
        }
      ]
    }
  ]
}