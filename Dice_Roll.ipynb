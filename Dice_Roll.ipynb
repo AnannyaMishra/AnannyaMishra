{
  "cells": [
    {
      "cell_type": "markdown",
      "metadata": {
        "id": "view-in-github",
        "colab_type": "text"
      },
      "source": [
        "<a href=\"https://colab.research.google.com/github/AnannyaMishra/AnannyaMishra/blob/main/Dice_Roll.ipynb\" target=\"_parent\"><img src=\"https://colab.research.google.com/assets/colab-badge.svg\" alt=\"Open In Colab\"/></a>"
      ]
    },
    {
      "cell_type": "code",
      "execution_count": null,
      "metadata": {
        "colab": {
          "background_save": true,
          "base_uri": "https://localhost:8080/"
        },
        "id": "AEawO5uDljd9",
        "outputId": "3303cfb9-e542-41b0-da74-ba8605e1a52a"
      },
      "outputs": [
        {
          "name": "stdout",
          "output_type": "stream",
          "text": [
            "Rolling The Dices....\n",
            "The Values are:\n",
            "5\n",
            "3\n",
            "Rolling The Dices....\n",
            "The Values are:\n",
            "1\n",
            "2\n",
            "Rolling The Dices....\n",
            "The Values are:\n",
            "5\n",
            "1\n",
            "Rolling The Dices....\n",
            "The Values are:\n",
            "5\n",
            "5\n",
            "Rolling The Dices....\n",
            "The Values are:\n",
            "5\n",
            "3\n"
          ]
        }
      ],
      "source": [
        "import random\n",
        "min_val=1\n",
        "max_val=6\n",
        "roll_again=\"yes\"\n",
        "while roll_again==\"yes\" or roll_again==\"y\":\n",
        "    \n",
        "    print(\"Rolling The Dices....\")\n",
        "    print(\"The Values are:\")\n",
        "    print(random.randint(min_val , max_val))\n",
        "    print(random.randint(min_val , max_val))\n",
        "    roll_again=input(\"Roll the Dices Again?\")"
      ]
    },
    {
      "cell_type": "code",
      "execution_count": null,
      "metadata": {
        "id": "STOfLIDplsux"
      },
      "outputs": [],
      "source": [
        ""
      ]
    }
  ],
  "metadata": {
    "colab": {
      "collapsed_sections": [],
      "name": "Dice Roll.ipynb",
      "provenance": [],
      "authorship_tag": "ABX9TyOL5zySvNe1QsPsUdmWLBQ+",
      "include_colab_link": true
    },
    "kernelspec": {
      "display_name": "Python 3",
      "name": "python3"
    },
    "language_info": {
      "name": "python"
    }
  },
  "nbformat": 4,
  "nbformat_minor": 0
}