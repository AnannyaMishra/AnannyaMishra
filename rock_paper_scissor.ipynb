{
  "nbformat": 4,
  "nbformat_minor": 0,
  "metadata": {
    "colab": {
      "name": "rock paper scissor.ipynb",
      "provenance": [],
      "authorship_tag": "ABX9TyMyqqb5rOn8wcI7yXBCvDmj",
      "include_colab_link": true
    },
    "kernelspec": {
      "name": "python3",
      "display_name": "Python 3"
    },
    "language_info": {
      "name": "python"
    }
  },
  "cells": [
    {
      "cell_type": "markdown",
      "metadata": {
        "id": "view-in-github",
        "colab_type": "text"
      },
      "source": [
        "<a href=\"https://colab.research.google.com/github/AnannyaMishra/AnannyaMishra/blob/main/rock_paper_scissor.ipynb\" target=\"_parent\"><img src=\"https://colab.research.google.com/assets/colab-badge.svg\" alt=\"Open In Colab\"/></a>"
      ]
    },
    {
      "cell_type": "code",
      "execution_count": 1,
      "metadata": {
        "colab": {
          "base_uri": "https://localhost:8080/"
        },
        "id": "4Mu53ClIfvbq",
        "outputId": "f09f2583-9051-49b8-db2f-4236e4c8ea1a"
      },
      "outputs": [
        {
          "output_type": "stream",
          "name": "stdout",
          "text": [
            "Rock,Paper or Scissors?rock\n",
            "You Win! Rock Smashes Scissors\n",
            "Rock,Paper or Scissors?paper\n",
            "You Lose! Scissors Cut Paper\n",
            "Rock,Paper or Scissors?rock\n",
            "You Win! Rock Smashes Scissors\n",
            "Rock,Paper or Scissors?scissor\n",
            "Rock,Paper or Scissors?scissor\n",
            "Rock,Paper or Scissors?paper\n",
            "You Lose! Scissors Cut Paper\n",
            "Rock,Paper or Scissors?end\n",
            "Final Score:\n",
            "CPU:2\n",
            "Plaer:2\n"
          ]
        }
      ],
      "source": [
        "import random\n",
        "choices=[\"Rock\",\"Paper\",\"Scissors\"]\n",
        "computer=random.choice(choices)\n",
        "player=False\n",
        "cpu_score=0\n",
        "player_score=0\n",
        "while True:\n",
        "    player=input(\"Rock,Paper or Scissors?\").capitalize()\n",
        "    if player==computer:\n",
        "        print(\"Tie!\")\n",
        "    elif player==\"Rock\":\n",
        "        if computer==\"Paper\":\n",
        "            print(\"You Lose!\",computer,\"Covers\",player)\n",
        "            cpu_score+=1\n",
        "        else:\n",
        "            print(\"You Win!\",player,\"Smashes\",computer)\n",
        "            player_score+=1\n",
        "    elif player==\"Paper\":\n",
        "        if computer==\"Scissors\":\n",
        "            print(\"You Lose!\",computer,\"Cut\",player)\n",
        "            cpu_score+=1\n",
        "        else:\n",
        "            print(\"You Win!\",player,\"Cover\",computer)\n",
        "            player_score+=1\n",
        "    elif player==\"Scissors\":\n",
        "        if computer==\"Rock\":\n",
        "            print(\"You Lose...\",computer,\"Smashes\",player)\n",
        "            cpu_score+=1\n",
        "        else:\n",
        "            print(\"You Win!\",player,\"Cut\",computer)\n",
        "            player_score+=1\n",
        "    elif player==\"End\":\n",
        "        print(\"Final Score:\")\n",
        "        print(f\"CPU:{cpu_score}\")\n",
        "        print(f\"Plaer:{player_score}\")\n",
        "        break"
      ]
    },
    {
      "cell_type": "code",
      "source": [
        ""
      ],
      "metadata": {
        "id": "FeenFSc1f0w4"
      },
      "execution_count": null,
      "outputs": []
    }
  ]
}