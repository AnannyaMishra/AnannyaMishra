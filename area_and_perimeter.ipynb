{
  "nbformat": 4,
  "nbformat_minor": 0,
  "metadata": {
    "colab": {
      "name": "area and perimeter.ipynb",
      "provenance": [],
      "collapsed_sections": [],
      "authorship_tag": "ABX9TyPzbHGlULgx20o42/LhLGTa",
      "include_colab_link": true
    },
    "kernelspec": {
      "name": "python3",
      "display_name": "Python 3"
    },
    "language_info": {
      "name": "python"
    }
  },
  "cells": [
    {
      "cell_type": "markdown",
      "metadata": {
        "id": "view-in-github",
        "colab_type": "text"
      },
      "source": [
        "<a href=\"https://colab.research.google.com/github/AnannyaMishra/AnannyaMishra/blob/main/area_and_perimeter.ipynb\" target=\"_parent\"><img src=\"https://colab.research.google.com/assets/colab-badge.svg\" alt=\"Open In Colab\"/></a>"
      ]
    },
    {
      "cell_type": "code",
      "execution_count": null,
      "metadata": {
        "colab": {
          "base_uri": "https://localhost:8080/"
        },
        "id": "WpqKvYT66PWG",
        "outputId": "e58ac5a8-f056-44eb-c3ed-08156e83b8c2"
      },
      "outputs": [
        {
          "output_type": "stream",
          "name": "stdout",
          "text": [
            "Enter a number: 5\n",
            "Enter a number: 3\n",
            "Enter a number: 9\n",
            "8.5\n",
            "(5.538481227264006e-16+9.045026257562771j)\n"
          ]
        }
      ],
      "source": [
        "#area and perimeter of triangle#\n",
        "a=int(input('Enter a number: '))\n",
        "b=int(input('Enter a number: '))\n",
        "c=int(input('Enter a number: '))\n",
        "\n",
        "s=(a+b+c)/2\n",
        "print(s)\n",
        "\n",
        "area=(s*(s-a)*(s-b)*(s-c))**0.5\n",
        "print(area)"
      ]
    },
    {
      "cell_type": "code",
      "source": [
        "#area and perimeter of square#\n",
        "a=int(input('Enter a number: '))\n",
        "area=a**2\n",
        "print(area)\n",
        "p=4*a\n",
        "print(p)"
      ],
      "metadata": {
        "colab": {
          "base_uri": "https://localhost:8080/"
        },
        "id": "SrDYsXGz64Ed",
        "outputId": "d30d9061-25a4-48ee-d738-a29b453ba891"
      },
      "execution_count": null,
      "outputs": [
        {
          "output_type": "stream",
          "name": "stdout",
          "text": [
            "Enter a number: 5\n",
            "25\n",
            "20\n"
          ]
        }
      ]
    },
    {
      "cell_type": "code",
      "source": [
        "#area and perimeter of rectangle#\n",
        "a=int(input('Enter a number: '))\n",
        "b=int(input('Enter another number: '))\n",
        "area=a*b\n",
        "print('The area of the rectangle is: ',area)\n",
        "\n",
        "p=(a+b)*2\n",
        "print('The perimeter of the rectangle is: ',p)"
      ],
      "metadata": {
        "colab": {
          "base_uri": "https://localhost:8080/"
        },
        "id": "b-mzMBNS8Y6S",
        "outputId": "c96801b6-4a27-456d-acec-c114a28194aa"
      },
      "execution_count": null,
      "outputs": [
        {
          "output_type": "stream",
          "name": "stdout",
          "text": [
            "Enter a number: 55\n",
            "Enter another number: 10\n",
            "The area of the rectangle is:  550\n",
            "The parimeter of the rectangle is:  130\n"
          ]
        }
      ]
    },
    {
      "cell_type": "code",
      "source": [
        ""
      ],
      "metadata": {
        "id": "gltI5-UFR9O3"
      },
      "execution_count": null,
      "outputs": []
    }
  ]
}