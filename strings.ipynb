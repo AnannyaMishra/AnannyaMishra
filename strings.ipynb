{
  "nbformat": 4,
  "nbformat_minor": 0,
  "metadata": {
    "colab": {
      "name": "strings.ipynb",
      "provenance": [],
      "authorship_tag": "ABX9TyM4nvFegC/VdZVVYhJouRqz",
      "include_colab_link": true
    },
    "kernelspec": {
      "name": "python3",
      "display_name": "Python 3"
    },
    "language_info": {
      "name": "python"
    }
  },
  "cells": [
    {
      "cell_type": "markdown",
      "metadata": {
        "id": "view-in-github",
        "colab_type": "text"
      },
      "source": [
        "<a href=\"https://colab.research.google.com/github/AnannyaMishra/AnannyaMishra/blob/main/strings.ipynb\" target=\"_parent\"><img src=\"https://colab.research.google.com/assets/colab-badge.svg\" alt=\"Open In Colab\"/></a>"
      ]
    },
    {
      "cell_type": "code",
      "execution_count": 1,
      "metadata": {
        "colab": {
          "base_uri": "https://localhost:8080/"
        },
        "id": "GH6zkVO1QVms",
        "outputId": "cbfc8447-6e72-40c5-e21f-3cfcd79466f2"
      },
      "outputs": [
        {
          "output_type": "stream",
          "name": "stdout",
          "text": [
            "hello\n",
            "hello\n"
          ]
        }
      ],
      "source": [
        "print(\"hello\")\n",
        "print('hello')"
      ]
    },
    {
      "cell_type": "code",
      "source": [
        "a=\"hello\"\n",
        "print(a)"
      ],
      "metadata": {
        "colab": {
          "base_uri": "https://localhost:8080/"
        },
        "id": "mz29sJ6cVEns",
        "outputId": "0f8ecee1-0426-47ef-beb8-bb3d2a8750bf"
      },
      "execution_count": 2,
      "outputs": [
        {
          "output_type": "stream",
          "name": "stdout",
          "text": [
            "hello\n"
          ]
        }
      ]
    },
    {
      "cell_type": "code",
      "source": [
        "a=\"\"\"Lorem ipsum dolor sit amet,\n",
        "consectetur adipiscing elit,\n",
        "sed do eiusmod tempor incididunt\n",
        "ut labore et dolore magna aliqua.\"\"\"\n",
        "print(a)"
      ],
      "metadata": {
        "colab": {
          "base_uri": "https://localhost:8080/"
        },
        "id": "4-n648XCVn61",
        "outputId": "1e9d319a-0b42-417f-f966-7b6758f0234c"
      },
      "execution_count": 3,
      "outputs": [
        {
          "output_type": "stream",
          "name": "stdout",
          "text": [
            "Lorem ipsum dolor sit amet,\n",
            "consectetur adipiscing elit,\n",
            "sed do eiusmod tempor incididunt\n",
            "ut labore et dolore magna aliqua.\n"
          ]
        }
      ]
    },
    {
      "cell_type": "code",
      "source": [
        "a = '''Lorem ipsum dolor sit amet,\n",
        "consectetur adipiscing elit,\n",
        "sed do eiusmod tempor incididunt\n",
        "ut labore et dolore magna aliqua.'''\n",
        "print(a)"
      ],
      "metadata": {
        "colab": {
          "base_uri": "https://localhost:8080/"
        },
        "id": "OB0PLeWZWQtC",
        "outputId": "71ba7e8b-6866-4c2a-f629-a0781f4d2732"
      },
      "execution_count": 4,
      "outputs": [
        {
          "output_type": "stream",
          "name": "stdout",
          "text": [
            "Lorem ipsum dolor sit amet,\n",
            "consectetur adipiscing elit,\n",
            "sed do eiusmod tempor incididunt\n",
            "ut labore et dolore magna aliqua.\n"
          ]
        }
      ]
    },
    {
      "cell_type": "code",
      "source": [
        "a=\"hello, world!\"\n",
        "print(a[1])\n",
        "print(a[5])\n",
        "print(a[1:6])\n",
        "print(a[-1])\n",
        "print(a[-7])"
      ],
      "metadata": {
        "colab": {
          "base_uri": "https://localhost:8080/"
        },
        "id": "vGxAXS3NXBXm",
        "outputId": "30f1c628-1d2f-43b1-f339-aee13b4edd53"
      },
      "execution_count": 5,
      "outputs": [
        {
          "output_type": "stream",
          "name": "stdout",
          "text": [
            "e\n",
            ",\n",
            "ello,\n",
            "!\n",
            " \n"
          ]
        }
      ]
    },
    {
      "cell_type": "code",
      "source": [
        "for x in \"banana\":\n",
        "  print(x)"
      ],
      "metadata": {
        "colab": {
          "base_uri": "https://localhost:8080/"
        },
        "id": "etSxJELnayxx",
        "outputId": "8c10191e-8600-476b-f59c-793d79983c0a"
      },
      "execution_count": 6,
      "outputs": [
        {
          "output_type": "stream",
          "name": "stdout",
          "text": [
            "b\n",
            "a\n",
            "n\n",
            "a\n",
            "n\n",
            "a\n"
          ]
        }
      ]
    },
    {
      "cell_type": "code",
      "source": [
        "a=\"Hello, World!\"\n",
        "print(len(a))"
      ],
      "metadata": {
        "colab": {
          "base_uri": "https://localhost:8080/"
        },
        "id": "IjXaVVJQbeRE",
        "outputId": "b0d25c12-bbf5-4573-e9f9-17a6a09913bd"
      },
      "execution_count": 8,
      "outputs": [
        {
          "output_type": "stream",
          "name": "stdout",
          "text": [
            "13\n"
          ]
        }
      ]
    },
    {
      "cell_type": "code",
      "source": [
        "text=\"The Best things in life are Free!\"\n",
        "print(\"free\" in text)\n",
        "print(\"Free\" in text)"
      ],
      "metadata": {
        "colab": {
          "base_uri": "https://localhost:8080/"
        },
        "id": "vMzYoJ7cb92C",
        "outputId": "9d736373-e56a-4ccc-a7b8-bacb34f8259f"
      },
      "execution_count": 10,
      "outputs": [
        {
          "output_type": "stream",
          "name": "stdout",
          "text": [
            "False\n",
            "True\n"
          ]
        }
      ]
    },
    {
      "cell_type": "code",
      "source": [
        "text=\"The Best things in life are Free!\"\n",
        "if \"Free\" in text:\n",
        "  print(\"yes,Free is present \")"
      ],
      "metadata": {
        "colab": {
          "base_uri": "https://localhost:8080/"
        },
        "id": "opb4FlpScrmF",
        "outputId": "a6fe88c4-265f-4cf0-91aa-fb0f1db40367"
      },
      "execution_count": 12,
      "outputs": [
        {
          "output_type": "stream",
          "name": "stdout",
          "text": [
            "yes,Free is present \n"
          ]
        }
      ]
    },
    {
      "cell_type": "code",
      "source": [
        "text=\"The Best things in life are Free!\"\n",
        "print(\"follow\" not in text)\n",
        "\n",
        "if \"follow\" not in text:\n",
        "  print(\"No,'follow' is not present\")\n"
      ],
      "metadata": {
        "colab": {
          "base_uri": "https://localhost:8080/"
        },
        "id": "ZWsmfxELdyaH",
        "outputId": "3ccdc0f5-8737-4f90-b630-6bfa71fc939f"
      },
      "execution_count": 13,
      "outputs": [
        {
          "output_type": "stream",
          "name": "stdout",
          "text": [
            "True\n",
            "No,'follow' is not present\n"
          ]
        }
      ]
    },
    {
      "cell_type": "code",
      "source": [
        "a=\"Hello, World!\"\n",
        "print(a[2:5])\n",
        "print(a[:5])\n",
        "print(a[2:])\n",
        "print(a[-5:-2])\n",
        "print(a[:-1])\n",
        "print(a[2::9])"
      ],
      "metadata": {
        "colab": {
          "base_uri": "https://localhost:8080/"
        },
        "id": "5vGV1XJ7e6aN",
        "outputId": "c5385ad5-717e-4104-fbff-3e4191f6b425"
      },
      "execution_count": 21,
      "outputs": [
        {
          "output_type": "stream",
          "name": "stdout",
          "text": [
            "llo\n",
            "Hello\n",
            "llo, World!\n",
            "orl\n",
            "Hello, World\n",
            "ld\n"
          ]
        }
      ]
    },
    {
      "cell_type": "code",
      "source": [
        "a=\"hello world\"\n",
        "print(a.upper())\n",
        "print(a.lower())\n",
        "print(a.title())\n",
        "print(a.strip())\n",
        "print(a.replace('h','J'))\n",
        "print(a.split(\",\"))"
      ],
      "metadata": {
        "colab": {
          "base_uri": "https://localhost:8080/"
        },
        "id": "utZZtTL8ggxm",
        "outputId": "06567e9c-8648-420b-f41c-88e642d18337"
      },
      "execution_count": 26,
      "outputs": [
        {
          "output_type": "stream",
          "name": "stdout",
          "text": [
            "HELLO WORLD\n",
            "hello world\n",
            "Hello World\n",
            "hello world\n",
            "Jello world\n",
            "['hello world']\n"
          ]
        }
      ]
    },
    {
      "cell_type": "code",
      "source": [
        "a=\"Hello\"\n",
        "b=\"World\"\n",
        "\n",
        "c=a+b\n",
        "print(c)\n",
        "\n",
        "d=a+\" \"+b\n",
        "print(d)\n",
        "\n"
      ],
      "metadata": {
        "colab": {
          "base_uri": "https://localhost:8080/"
        },
        "id": "3xD_xirBlf1r",
        "outputId": "d0f6cc76-61e8-44fa-96ba-e498ad663b8f"
      },
      "execution_count": 29,
      "outputs": [
        {
          "output_type": "stream",
          "name": "stdout",
          "text": [
            "HelloWorld\n",
            "Hello World\n"
          ]
        }
      ]
    },
    {
      "cell_type": "code",
      "source": [
        "age = 36\n",
        "text = \"My name is John, I am \" + age\n",
        "print(text)"
      ],
      "metadata": {
        "colab": {
          "base_uri": "https://localhost:8080/",
          "height": 200
        },
        "id": "5g6UTPzSrSoz",
        "outputId": "80680651-ac40-4238-bf14-db5993860ea4"
      },
      "execution_count": 37,
      "outputs": [
        {
          "output_type": "error",
          "ename": "TypeError",
          "evalue": "ignored",
          "traceback": [
            "\u001b[0;31m---------------------------------------------------------------------------\u001b[0m",
            "\u001b[0;31mTypeError\u001b[0m                                 Traceback (most recent call last)",
            "\u001b[0;32m<ipython-input-37-266b75361957>\u001b[0m in \u001b[0;36m<module>\u001b[0;34m()\u001b[0m\n\u001b[1;32m      1\u001b[0m \u001b[0mage\u001b[0m \u001b[0;34m=\u001b[0m \u001b[0;36m36\u001b[0m\u001b[0;34m\u001b[0m\u001b[0;34m\u001b[0m\u001b[0m\n\u001b[0;32m----> 2\u001b[0;31m \u001b[0mtext\u001b[0m \u001b[0;34m=\u001b[0m \u001b[0;34m\"My name is John, I am \"\u001b[0m \u001b[0;34m+\u001b[0m \u001b[0mage\u001b[0m\u001b[0;34m\u001b[0m\u001b[0;34m\u001b[0m\u001b[0m\n\u001b[0m\u001b[1;32m      3\u001b[0m \u001b[0mprint\u001b[0m\u001b[0;34m(\u001b[0m\u001b[0mtext\u001b[0m\u001b[0;34m)\u001b[0m\u001b[0;34m\u001b[0m\u001b[0;34m\u001b[0m\u001b[0m\n",
            "\u001b[0;31mTypeError\u001b[0m: can only concatenate str (not \"int\") to str"
          ]
        }
      ]
    },
    {
      "cell_type": "code",
      "source": [
        "age=36\n",
        "text=\"My name is John and I am {}\"\n",
        "print(text.format(age))"
      ],
      "metadata": {
        "colab": {
          "base_uri": "https://localhost:8080/"
        },
        "id": "lAdfTBPborrz",
        "outputId": "cdaf2d03-8df1-4450-ede2-4ccda10d3898"
      },
      "execution_count": 38,
      "outputs": [
        {
          "output_type": "stream",
          "name": "stdout",
          "text": [
            "My name is John and I am 36\n"
          ]
        }
      ]
    },
    {
      "cell_type": "code",
      "source": [
        "quantity=3\n",
        "itemno=567\n",
        "price=49.95\n",
        "myorder=\"I want {} price of item {} for {} dollars.\"\n",
        "print(myorder.format(quantity,itemno,price))\n",
        "\n",
        "quantity=6\n",
        "itemno=500\n",
        "price=31.22\n",
        "myorder=\"I want to pay {2} dollars for {0} prices of item {1}.\"\n",
        "print(myorder.format(quantity,itemno,price))\n",
        "\n",
        "\n"
      ],
      "metadata": {
        "colab": {
          "base_uri": "https://localhost:8080/"
        },
        "id": "aDfgX8jgsRGX",
        "outputId": "067b1f23-83c5-46cf-ae85-018b27199f91"
      },
      "execution_count": 41,
      "outputs": [
        {
          "output_type": "stream",
          "name": "stdout",
          "text": [
            "I want 3 price of item 567 for 49.95 dollars.\n",
            "I want to pay 31.22 dollars for 6 prices of item 500.\n"
          ]
        }
      ]
    }
  ]
}