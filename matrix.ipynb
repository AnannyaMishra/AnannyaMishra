{
  "nbformat": 4,
  "nbformat_minor": 0,
  "metadata": {
    "colab": {
      "name": "matrix.ipynb",
      "provenance": [],
      "authorship_tag": "ABX9TyNSR2idfVkXIX2CheAdgJX7",
      "include_colab_link": true
    },
    "kernelspec": {
      "name": "python3",
      "display_name": "Python 3"
    },
    "language_info": {
      "name": "python"
    }
  },
  "cells": [
    {
      "cell_type": "markdown",
      "metadata": {
        "id": "view-in-github",
        "colab_type": "text"
      },
      "source": [
        "<a href=\"https://colab.research.google.com/github/AnannyaMishra/AnannyaMishra/blob/main/matrix.ipynb\" target=\"_parent\"><img src=\"https://colab.research.google.com/assets/colab-badge.svg\" alt=\"Open In Colab\"/></a>"
      ]
    },
    {
      "cell_type": "code",
      "execution_count": 5,
      "metadata": {
        "colab": {
          "base_uri": "https://localhost:8080/"
        },
        "id": "_kg6BZl0nzxj",
        "outputId": "fdaa2150-4c54-4a3a-d61c-86d00547d23d"
      },
      "outputs": [
        {
          "output_type": "stream",
          "name": "stdout",
          "text": [
            "[17, 15, 4]\n",
            "[10, 12, 9]\n",
            "[11, 13, 18]\n",
            "3\n",
            "3\n",
            "3\n",
            "3\n"
          ]
        }
      ],
      "source": [
        "x=[[12,7,3],\n",
        "   [4,5,6],\n",
        "   [7,8,9]]\n",
        "\n",
        "y=[[5,8,1],\n",
        "   [6,7,3],\n",
        "   [4,5,9]]\n",
        "result=[[x[i][j]+y[i][j] for j in range(len(x[0]))]for i in range(len(x))]\n",
        "\n",
        "for r in result:\n",
        "  print(r)\n",
        "\n",
        "print(len(x))\n",
        "print(len(x[0]))\n",
        "\n",
        "print(len(y))\n",
        "print(len(x[1]))"
      ]
    },
    {
      "cell_type": "code",
      "source": [
        "y=[[5,8,1],\n",
        "   [7,3],\n",
        "   [4,5,9]]\n",
        "print(len(y))\n",
        "print(len(y[1]))"
      ],
      "metadata": {
        "colab": {
          "base_uri": "https://localhost:8080/"
        },
        "id": "OYP7SHBHo3nD",
        "outputId": "8489d7ed-a4e8-4607-c2f3-95cda6a46d74"
      },
      "execution_count": 7,
      "outputs": [
        {
          "output_type": "stream",
          "name": "stdout",
          "text": [
            "3\n",
            "2\n"
          ]
        }
      ]
    },
    {
      "cell_type": "code",
      "source": [
        "x=[[10,20],\n",
        "   [30,40],\n",
        "   [50,60]]\n",
        "print(x)\n",
        "print(len(x))\n",
        "print(len(x[0]))\n",
        "result=[[x[j][i] for j in range(len(x))] for i in range(len(x[0]))]\n",
        "\n",
        "for r in result:\n",
        "  print(r)\n",
        "print(len(r))"
      ],
      "metadata": {
        "colab": {
          "base_uri": "https://localhost:8080/"
        },
        "id": "ZghoOS9FqPJm",
        "outputId": "f3bc1647-d03f-4a36-9bfd-6f38da8462ab"
      },
      "execution_count": 18,
      "outputs": [
        {
          "output_type": "stream",
          "name": "stdout",
          "text": [
            "[[10, 20], [30, 40], [50, 60]]\n",
            "3\n",
            "2\n",
            "[10, 30, 50]\n",
            "[20, 40, 60]\n",
            "3\n"
          ]
        }
      ]
    },
    {
      "cell_type": "code",
      "source": [
        "#num=10\n",
        "#print(len(num))\n",
        "\n",
        "data=[1,2,3]\n",
        "print(len(data))"
      ],
      "metadata": {
        "colab": {
          "base_uri": "https://localhost:8080/"
        },
        "id": "Z_Phfb1TrpNg",
        "outputId": "aac65681-89fb-4da5-ef94-14460f98629d"
      },
      "execution_count": 17,
      "outputs": [
        {
          "output_type": "stream",
          "name": "stdout",
          "text": [
            "3\n"
          ]
        }
      ]
    }
  ]
}