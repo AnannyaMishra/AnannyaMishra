{
  "nbformat": 4,
  "nbformat_minor": 0,
  "metadata": {
    "colab": {
      "name": "variables and data type.ipynb",
      "provenance": [],
      "authorship_tag": "ABX9TyNg/FukXlv9DJnsazkFBohQ",
      "include_colab_link": true
    },
    "kernelspec": {
      "name": "python3",
      "display_name": "Python 3"
    },
    "language_info": {
      "name": "python"
    }
  },
  "cells": [
    {
      "cell_type": "markdown",
      "metadata": {
        "id": "view-in-github",
        "colab_type": "text"
      },
      "source": [
        "<a href=\"https://colab.research.google.com/github/AnannyaMishra/AnannyaMishra/blob/main/variables_and_data_type.ipynb\" target=\"_parent\"><img src=\"https://colab.research.google.com/assets/colab-badge.svg\" alt=\"Open In Colab\"/></a>"
      ]
    },
    {
      "cell_type": "code",
      "execution_count": 1,
      "metadata": {
        "colab": {
          "base_uri": "https://localhost:8080/"
        },
        "id": "Owiv_JjsHGw2",
        "outputId": "f88697f0-4b3d-4e6a-94f5-2bc4ba119e52"
      },
      "outputs": [
        {
          "output_type": "stream",
          "name": "stdout",
          "text": [
            "3\n",
            "3\n",
            "3.0\n"
          ]
        }
      ],
      "source": [
        "x=str(3)\n",
        "y=int(3)\n",
        "z=float(3)\n",
        "print(x)\n",
        "print(y)\n",
        "print(z)"
      ]
    },
    {
      "cell_type": "code",
      "source": [
        "myvar=5\n",
        "print(myvar)\n",
        "my_var='disha'\n",
        "print(my_var)\n",
        "_my_var=665.33\n",
        "print(_my_var)\n",
        "MYVAR=\"Jack\"\n",
        "print(MYVAR)\n",
        "MyVar=\"hello\"\n",
        "print(MyVar)\n",
        "Myvar=\"hello world\"\n",
        "print(Myvar)\n",
        "myvar=65\n",
        "print(myvar)\n",
        "my5var='str'\n",
        "print(my5var)"
      ],
      "metadata": {
        "colab": {
          "base_uri": "https://localhost:8080/"
        },
        "id": "eCB9GuxeMtEl",
        "outputId": "fb4e01fb-7966-4e0c-9dc4-a7c3de6de672"
      },
      "execution_count": 10,
      "outputs": [
        {
          "output_type": "stream",
          "name": "stdout",
          "text": [
            "5\n",
            "disha\n",
            "665.33\n",
            "Jack\n",
            "hello\n",
            "hello world\n",
            "65\n",
            "str\n"
          ]
        }
      ]
    },
    {
      "cell_type": "code",
      "source": [
        "myVariableName='hello world'\n",
        "print(myVariableName)\n",
        "MyVariableName=\"Hii.How Are You\"\n",
        "print(MyVariableName)\n",
        "my_variable_name=\"I am fine\"\n",
        "print(my_variable_name)"
      ],
      "metadata": {
        "colab": {
          "base_uri": "https://localhost:8080/"
        },
        "id": "HLWyhle7Owtb",
        "outputId": "882791c1-edf4-4937-bb30-7c56016a173e"
      },
      "execution_count": 11,
      "outputs": [
        {
          "output_type": "stream",
          "name": "stdout",
          "text": [
            "hello world\n",
            "Hii.How Are You\n",
            "I am fine\n"
          ]
        }
      ]
    },
    {
      "cell_type": "code",
      "source": [
        "x,y,z=\"Apple\",\"Banana\",\"Orange\"\n",
        "print(x)\n",
        "print(y)\n",
        "print(z)\n",
        "\n",
        "a=b=c=\"Cherry\"\n",
        "print(a)\n",
        "print(b)\n",
        "print(c)\n",
        "\n",
        "Place=[\"Cuttack\",\"Bhubaneswar\",\"Puri\"]\n",
        "p,q,r=Place\n",
        "print(p)\n",
        "print(q)\n",
        "print(r)\n"
      ],
      "metadata": {
        "colab": {
          "base_uri": "https://localhost:8080/"
        },
        "id": "sPDT9A2BUfmD",
        "outputId": "3bb63658-3249-43f6-cf61-f9a07fa8eb44"
      },
      "execution_count": 17,
      "outputs": [
        {
          "output_type": "stream",
          "name": "stdout",
          "text": [
            "Apple\n",
            "Banana\n",
            "Orange\n",
            "Cherry\n",
            "Cherry\n",
            "Cherry\n",
            "Cuttack\n",
            "Bhubaneswar\n",
            "Puri\n"
          ]
        }
      ]
    },
    {
      "cell_type": "code",
      "source": [
        "x=\"Hello \"\n",
        "print(x+ \"World\")\n",
        "\n",
        "x=\"hello \"\n",
        "y=\"world\"\n",
        "z=x+y\n",
        "print(z)\n",
        "\n",
        "x=5\n",
        "y=55\n",
        "z=x+y\n",
        "print(z)"
      ],
      "metadata": {
        "colab": {
          "base_uri": "https://localhost:8080/"
        },
        "id": "EYIa9qOOXZM3",
        "outputId": "6cc08026-9015-449b-fff2-622362691fd5"
      },
      "execution_count": 29,
      "outputs": [
        {
          "output_type": "stream",
          "name": "stdout",
          "text": [
            "Hello World\n",
            "hello world\n",
            "60\n"
          ]
        }
      ]
    },
    {
      "cell_type": "code",
      "source": [
        "x= \"awesome\"\n",
        "def myfunc():\n",
        "  print(\"Python is \" + x)\n",
        "myfunc()"
      ],
      "metadata": {
        "colab": {
          "base_uri": "https://localhost:8080/"
        },
        "id": "e0OGY9ldZgqg",
        "outputId": "102af075-a7a5-4a84-9c81-2be0912c56b0"
      },
      "execution_count": 28,
      "outputs": [
        {
          "output_type": "stream",
          "name": "stdout",
          "text": [
            "Python is awesome\n"
          ]
        }
      ]
    },
    {
      "cell_type": "code",
      "source": [
        "x=\"Awesome\"\n",
        "def myfunc():\n",
        "  x=\"Fantastic\"\n",
        "  print(\"Python is \" + x)\n",
        "myfunc()\n",
        "print(\"Python is \" + x)"
      ],
      "metadata": {
        "colab": {
          "base_uri": "https://localhost:8080/"
        },
        "id": "k60Hf9hzhfSL",
        "outputId": "5b902772-1d52-45d6-e729-174ec5c96935"
      },
      "execution_count": 30,
      "outputs": [
        {
          "output_type": "stream",
          "name": "stdout",
          "text": [
            "Python is Fantastic\n",
            "Python is Awesome\n"
          ]
        }
      ]
    },
    {
      "cell_type": "code",
      "source": [
        "def myfunc():\n",
        "  global x\n",
        "  x=\"Fantastic\"\n",
        "myfunc()\n",
        "print(\"Python is \" + x)"
      ],
      "metadata": {
        "colab": {
          "base_uri": "https://localhost:8080/"
        },
        "id": "q5G2Xz8ArH6l",
        "outputId": "72543a12-91a5-480f-f803-bc020279736f"
      },
      "execution_count": 33,
      "outputs": [
        {
          "output_type": "stream",
          "name": "stdout",
          "text": [
            "Python is Fantastic\n"
          ]
        }
      ]
    },
    {
      "cell_type": "code",
      "source": [
        "x = \"awesome\"\n",
        "def myfunc():\n",
        "  global x\n",
        "  x = \"fantastic\"\n",
        "myfunc()\n",
        "print(\"Python is \" + x)\n"
      ],
      "metadata": {
        "colab": {
          "base_uri": "https://localhost:8080/"
        },
        "id": "WrtVUIwmsZ9y",
        "outputId": "12dc1048-face-4a92-a02a-752ca55a7c06"
      },
      "execution_count": 34,
      "outputs": [
        {
          "output_type": "stream",
          "name": "stdout",
          "text": [
            "Python is fantastic\n"
          ]
        }
      ]
    }
  ]
}