{
  "nbformat": 4,
  "nbformat_minor": 0,
  "metadata": {
    "colab": {
      "name": "Sorting words.ipynb",
      "provenance": [],
      "authorship_tag": "ABX9TyOt8u0TBAQurk9SIj6uoYwD",
      "include_colab_link": true
    },
    "kernelspec": {
      "name": "python3",
      "display_name": "Python 3"
    },
    "language_info": {
      "name": "python"
    }
  },
  "cells": [
    {
      "cell_type": "markdown",
      "metadata": {
        "id": "view-in-github",
        "colab_type": "text"
      },
      "source": [
        "<a href=\"https://colab.research.google.com/github/AnannyaMishra/AnannyaMishra/blob/main/Sorting_words.ipynb\" target=\"_parent\"><img src=\"https://colab.research.google.com/assets/colab-badge.svg\" alt=\"Open In Colab\"/></a>"
      ]
    },
    {
      "cell_type": "code",
      "execution_count": 5,
      "metadata": {
        "colab": {
          "base_uri": "https://localhost:8080/"
        },
        "id": "YNYeMrkQaPu8",
        "outputId": "40c81c58-6a62-4c5d-93dd-c28c2cf56373"
      },
      "outputs": [
        {
          "output_type": "stream",
          "name": "stdout",
          "text": [
            "Enter the statement you want to sort: i am a good girl. i have a pen.\n",
            "The sorted words are:\n",
            "a\n",
            "a\n",
            "am\n",
            "girl.\n",
            "good\n",
            "have\n",
            "i\n",
            "i\n",
            "pen.\n"
          ]
        }
      ],
      "source": [
        "my_str = input(\"Enter the statement you want to sort: \")\n",
        "\n",
        "words = [word.lower() for word in my_str.split()]\n",
        "\n",
        "words.sort()\n",
        "\n",
        "print(\"The sorted words are:\")\n",
        "for word in words:\n",
        "   print(word)"
      ]
    },
    {
      "cell_type": "code",
      "source": [
        ""
      ],
      "metadata": {
        "id": "1LJRa3klaUG6"
      },
      "execution_count": 2,
      "outputs": []
    }
  ]
}