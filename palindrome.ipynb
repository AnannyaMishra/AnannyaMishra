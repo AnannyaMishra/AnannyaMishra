{
  "nbformat": 4,
  "nbformat_minor": 0,
  "metadata": {
    "colab": {
      "name": "palindrome.ipynb",
      "provenance": [],
      "collapsed_sections": [],
      "authorship_tag": "ABX9TyMem9SZTa1qukbS4BzihXxu",
      "include_colab_link": true
    },
    "kernelspec": {
      "name": "python3",
      "display_name": "Python 3"
    },
    "language_info": {
      "name": "python"
    }
  },
  "cells": [
    {
      "cell_type": "markdown",
      "metadata": {
        "id": "view-in-github",
        "colab_type": "text"
      },
      "source": [
        "<a href=\"https://colab.research.google.com/github/AnannyaMishra/AnannyaMishra/blob/main/palindrome.ipynb\" target=\"_parent\"><img src=\"https://colab.research.google.com/assets/colab-badge.svg\" alt=\"Open In Colab\"/></a>"
      ]
    },
    {
      "cell_type": "code",
      "execution_count": null,
      "metadata": {
        "colab": {
          "base_uri": "https://localhost:8080/"
        },
        "id": "ymCTBZEOt6k_",
        "outputId": "6e93e08c-d13a-4391-cb73-6045c5ba530a"
      },
      "outputs": [
        {
          "output_type": "stream",
          "name": "stdout",
          "text": [
            "The string is a palindrome.\n"
          ]
        }
      ],
      "source": [
        "my_str='aIbohPhoBiA'\n",
        "my_str=my_str.casefold()\n",
        "rev_str=reversed(my_str)\n",
        "if list(my_str)==list(rev_str):\n",
        "  print(\"The string is a palindrome.\")\n",
        "else:\n",
        "  print(\"The string is not a palindrome.\")"
      ]
    },
    {
      "cell_type": "code",
      "source": [
        "my_number='123456789987654321'\n",
        "my_number=my_number.casefold()\n",
        "rev_number=reversed(my_number)\n",
        "if list(my_number)==list(rev_number):\n",
        "  print(\"The number is a palindrome.\")\n",
        "else:\n",
        "  print(\"The number is not a palindrome.\")"
      ],
      "metadata": {
        "colab": {
          "base_uri": "https://localhost:8080/"
        },
        "id": "3opl5ZUBu1gL",
        "outputId": "35fee51d-c33a-4904-831a-3120e87754ba"
      },
      "execution_count": null,
      "outputs": [
        {
          "output_type": "stream",
          "name": "stdout",
          "text": [
            "The number is a palindrome.\n"
          ]
        }
      ]
    },
    {
      "cell_type": "code",
      "source": [
        "num=int(input('Enter a value '))\n",
        "temp=num\n",
        "rev=0\n",
        "while(num>0):\n",
        "  dig=num%10\n",
        "  rev2=rev*10+dig\n",
        "  num2=num//10\n",
        "if(temp==rev):\n",
        "  print('This value is a palindrome number!!')\n",
        "else:\n",
        "  print('This value is not palindrome number!!')"
      ],
      "metadata": {
        "colab": {
          "base_uri": "https://localhost:8080/"
        },
        "id": "nCt81FRvvnCY",
        "outputId": "660afe26-3b07-4353-84e1-c19ecaeb3277"
      },
      "execution_count": null,
      "outputs": [
        {
          "name": "stdout",
          "output_type": "stream",
          "text": [
            "Enter a value 11\n"
          ]
        }
      ]
    },
    {
      "cell_type": "code",
      "source": [
        ""
      ],
      "metadata": {
        "id": "Hk1yEv_Pw3Q6"
      },
      "execution_count": null,
      "outputs": []
    }
  ]
}