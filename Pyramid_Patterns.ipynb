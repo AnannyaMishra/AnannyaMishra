{
  "nbformat": 4,
  "nbformat_minor": 0,
  "metadata": {
    "colab": {
      "name": "Pyramid Patterns.ipynb",
      "provenance": [],
      "collapsed_sections": [],
      "authorship_tag": "ABX9TyMZULqCqeNJcU/B8u1keUdy",
      "include_colab_link": true
    },
    "kernelspec": {
      "name": "python3",
      "display_name": "Python 3"
    },
    "language_info": {
      "name": "python"
    }
  },
  "cells": [
    {
      "cell_type": "markdown",
      "metadata": {
        "id": "view-in-github",
        "colab_type": "text"
      },
      "source": [
        "<a href=\"https://colab.research.google.com/github/AnannyaMishra/AnannyaMishra/blob/main/Pyramid_Patterns.ipynb\" target=\"_parent\"><img src=\"https://colab.research.google.com/assets/colab-badge.svg\" alt=\"Open In Colab\"/></a>"
      ]
    },
    {
      "cell_type": "code",
      "execution_count": null,
      "metadata": {
        "colab": {
          "base_uri": "https://localhost:8080/"
        },
        "id": "3LlCB46ox1hC",
        "outputId": "e16fbfdb-a3c7-428c-ed41-aee73d9233e1"
      },
      "outputs": [
        {
          "output_type": "stream",
          "name": "stdout",
          "text": [
            "Enter number of rows: 5\n",
            "#\n",
            "\n",
            "##\n",
            "\n",
            "###\n",
            "\n",
            "####\n",
            "\n",
            "#####\n",
            "\n"
          ]
        }
      ],
      "source": [
        "rows=int(input('Enter number of rows: '))\n",
        "for i in range(rows):\n",
        "  for j in range(i+1):\n",
        "    print('#',end='')\n",
        "  print('\\n')"
      ]
    },
    {
      "cell_type": "code",
      "source": [
        "rows=int(input('Enter number of rows: '))\n",
        "for i in range(rows,0,-1):\n",
        "  for j in range(0,i):\n",
        "    print('*',end='')\n",
        "  print('\\n')"
      ],
      "metadata": {
        "colab": {
          "base_uri": "https://localhost:8080/"
        },
        "id": "li3PWHzZ3Xaf",
        "outputId": "5334a780-3266-49e5-d05e-befb7a80d92f"
      },
      "execution_count": null,
      "outputs": [
        {
          "output_type": "stream",
          "name": "stdout",
          "text": [
            "Enter number of rows: 5\n",
            "*****\n",
            "\n",
            "****\n",
            "\n",
            "***\n",
            "\n",
            "**\n",
            "\n",
            "*\n",
            "\n"
          ]
        }
      ]
    },
    {
      "cell_type": "code",
      "source": [
        "rows=int(input('Enter number of rows: '))\n",
        "for i in range(rows):\n",
        "  for j in range(i+1):\n",
        "    print(j+1, end='')\n",
        "  print('\\n')"
      ],
      "metadata": {
        "colab": {
          "base_uri": "https://localhost:8080/"
        },
        "id": "3HVBoFozyUzc",
        "outputId": "f9e66bb6-1fe9-40b7-afae-d6df13810fbd"
      },
      "execution_count": null,
      "outputs": [
        {
          "output_type": "stream",
          "name": "stdout",
          "text": [
            "Enter number of rows: 5\n",
            "1\n",
            "\n",
            "12\n",
            "\n",
            "123\n",
            "\n",
            "1234\n",
            "\n",
            "12345\n",
            "\n"
          ]
        }
      ]
    },
    {
      "cell_type": "code",
      "source": [
        "rows=int(input('Enter number of rows: '))\n",
        "for i in range(rows,0,-1):\n",
        "  for j in range(1,i+1):\n",
        "    print(j, end='')\n",
        "  print('\\n')"
      ],
      "metadata": {
        "colab": {
          "base_uri": "https://localhost:8080/"
        },
        "id": "xuqA4ts63J5O",
        "outputId": "04034cf3-5897-4b02-f0b4-9d451aab177c"
      },
      "execution_count": null,
      "outputs": [
        {
          "output_type": "stream",
          "name": "stdout",
          "text": [
            "Enter number of rows: 5\n",
            "12345\n",
            "\n",
            "1234\n",
            "\n",
            "123\n",
            "\n",
            "12\n",
            "\n",
            "1\n",
            "\n"
          ]
        }
      ]
    },
    {
      "cell_type": "code",
      "source": [
        "rows=int(input('Enter number of row: '))\n",
        "ascii_value=65\n",
        "for i in range(rows):\n",
        "  for j in range(i+1):\n",
        "    alphabet=chr(ascii_value)\n",
        "    print(alphabet,end='')\n",
        "  ascii_value +=1\n",
        "  print('\\n')"
      ],
      "metadata": {
        "colab": {
          "base_uri": "https://localhost:8080/"
        },
        "id": "du_eAj5gzFfv",
        "outputId": "9d4580cd-0971-4d06-aa4c-501e8a7ddfcf"
      },
      "execution_count": null,
      "outputs": [
        {
          "output_type": "stream",
          "name": "stdout",
          "text": [
            "Enter number of row: 9\n",
            "A\n",
            "\n",
            "BB\n",
            "\n",
            "CCC\n",
            "\n",
            "DDDD\n",
            "\n",
            "EEEEE\n",
            "\n",
            "FFFFFF\n",
            "\n",
            "GGGGGGG\n",
            "\n",
            "HHHHHHHH\n",
            "\n",
            "IIIIIIIII\n",
            "\n"
          ]
        }
      ]
    },
    {
      "cell_type": "code",
      "source": [
        "rows=int(input('Enter number of row: '))\n",
        "ascii_value=97\n",
        "for i in range(rows):\n",
        "  for j in range(i+1):\n",
        "    alphabet=chr(ascii_value)\n",
        "    print(alphabet,end='')\n",
        "  ascii_value +=1\n",
        "  print('\\n')"
      ],
      "metadata": {
        "colab": {
          "base_uri": "https://localhost:8080/"
        },
        "id": "Q83-LKDz1Zct",
        "outputId": "a3c6a000-0045-4377-fba7-474b8ab02f88"
      },
      "execution_count": null,
      "outputs": [
        {
          "output_type": "stream",
          "name": "stdout",
          "text": [
            "Enter number of row: 6\n",
            "a\n",
            "\n",
            "bb\n",
            "\n",
            "ccc\n",
            "\n",
            "dddd\n",
            "\n",
            "eeeee\n",
            "\n",
            "ffffff\n",
            "\n"
          ]
        }
      ]
    },
    {
      "cell_type": "code",
      "source": [
        "rows = int(input(\"Enter number of rows: \"))\n",
        "k = 0\n",
        "for i in range(1, rows+1):\n",
        "    for space in range(1, (rows-i)+1):\n",
        "        print(end=\"  \")\n",
        "    while k!=(2*i-1):\n",
        "        print(\"* \", end=\"\")\n",
        "        k += 1\n",
        "    k = 0\n",
        "    print()"
      ],
      "metadata": {
        "colab": {
          "base_uri": "https://localhost:8080/"
        },
        "id": "y82jIJpK2aUn",
        "outputId": "5f444a1b-c6b0-4ba5-995f-9573ed3aa2e6"
      },
      "execution_count": 8,
      "outputs": [
        {
          "output_type": "stream",
          "name": "stdout",
          "text": [
            "Enter number of rows: 5\n",
            "        * \n",
            "      * * * \n",
            "    * * * * * \n",
            "  * * * * * * * \n",
            "* * * * * * * * * \n"
          ]
        }
      ]
    },
    {
      "cell_type": "code",
      "source": [
        "rows = int(input(\"Enter number of rows: \"))\n",
        "k = 0\n",
        "count=0\n",
        "count1=0\n",
        "for i in range(1, rows+1):\n",
        "    for space in range(1, (rows-i)+1):\n",
        "        print(\"  \", end=\"\")\n",
        "        count+=1\n",
        "    while k!=((2*i)-1):\n",
        "        if count<=rows-1:\n",
        "            print(i+k, end=\" \")\n",
        "            count+=1\n",
        "        else:\n",
        "            count1+=1\n",
        "            print(i+k-(2*count1), end=\" \")\n",
        "        k += 1\n",
        "    count1 = count = k = 0\n",
        "    print()"
      ],
      "metadata": {
        "id": "SMf7VYFU28F5",
        "colab": {
          "base_uri": "https://localhost:8080/"
        },
        "outputId": "c08be9f0-4735-43c7-9057-e902d172400d"
      },
      "execution_count": 6,
      "outputs": [
        {
          "output_type": "stream",
          "name": "stdout",
          "text": [
            "Enter number of rows: 6\n",
            "          1 \n",
            "        2 3 2 \n",
            "      3 4 5 4 3 \n",
            "    4 5 6 7 6 5 4 \n",
            "  5 6 7 8 9 8 7 6 5 \n",
            "6 7 8 9 10 11 10 9 8 7 6 \n"
          ]
        }
      ]
    },
    {
      "cell_type": "code",
      "source": [
        "rows = int(input(\"Enter number of rows: \"))\n",
        "for i in range(rows, 1, -1):\n",
        "    for space in range(0, rows-i):\n",
        "        print(\"  \", end=\"\")\n",
        "    for j in range(i, 2*i-1):\n",
        "        print(\"* \", end=\"\")\n",
        "    for j in range(1, i-1):\n",
        "        print(\"* \", end=\"\")\n",
        "    print()"
      ],
      "metadata": {
        "colab": {
          "base_uri": "https://localhost:8080/"
        },
        "id": "ajXATXhqqTse",
        "outputId": "ba08a595-036f-483e-ffce-2e9f979a1e58"
      },
      "execution_count": 7,
      "outputs": [
        {
          "output_type": "stream",
          "name": "stdout",
          "text": [
            "Enter number of rows: 6\n",
            "* * * * * * * * * \n",
            "  * * * * * * * \n",
            "    * * * * * \n",
            "      * * * \n",
            "        * \n"
          ]
        }
      ]
    },
    {
      "cell_type": "code",
      "source": [
        ""
      ],
      "metadata": {
        "id": "WsSRaiRLrVKq"
      },
      "execution_count": null,
      "outputs": []
    }
  ]
}