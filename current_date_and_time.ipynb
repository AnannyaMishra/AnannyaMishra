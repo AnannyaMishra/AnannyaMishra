{
  "nbformat": 4,
  "nbformat_minor": 0,
  "metadata": {
    "colab": {
      "name": "current date and time.ipynb",
      "provenance": [],
      "collapsed_sections": [],
      "authorship_tag": "ABX9TyOIyxbnXQFDY9dr8BnEjeel",
      "include_colab_link": true
    },
    "kernelspec": {
      "name": "python3",
      "display_name": "Python 3"
    },
    "language_info": {
      "name": "python"
    }
  },
  "cells": [
    {
      "cell_type": "markdown",
      "metadata": {
        "id": "view-in-github",
        "colab_type": "text"
      },
      "source": [
        "<a href=\"https://colab.research.google.com/github/AnannyaMishra/AnannyaMishra/blob/main/current_date_and_time.ipynb\" target=\"_parent\"><img src=\"https://colab.research.google.com/assets/colab-badge.svg\" alt=\"Open In Colab\"/></a>"
      ]
    },
    {
      "cell_type": "code",
      "execution_count": 3,
      "metadata": {
        "colab": {
          "base_uri": "https://localhost:8080/"
        },
        "id": "Qzs49GEj11YS",
        "outputId": "4d27337a-786e-4b1c-f136-6e7b49f67fc8"
      },
      "outputs": [
        {
          "output_type": "stream",
          "name": "stdout",
          "text": [
            "Yesterday=  01-02-2022\n",
            "Today=  02-02-2022\n",
            "Tomorrow=  03-02-2022\n"
          ]
        }
      ],
      "source": [
        "from datetime import datetime,timedelta\n",
        "presentday=datetime.now()\n",
        "yesterday=presentday-timedelta(1)\n",
        "tomorrow=presentday+timedelta(1)\n",
        "print(\"Yesterday= \",yesterday.strftime('%d-%m-%Y'))\n",
        "print(\"Today= \",presentday.strftime('%d-%m-%Y'))\n",
        "print(\"Tomorrow= \",tomorrow.strftime('%d-%m-%Y'))"
      ]
    },
    {
      "cell_type": "code",
      "source": [
        "import datetime\n",
        "current_time=datetime.datetime.now()\n",
        "print(\"The attributes of now() are : \")\n",
        "print(\"Year: \",end=\"\")\n",
        "print(current_time.year)\n",
        "\n",
        "print(\"Month: \",end=\"\")\n",
        "print(current_time.month)\n",
        "\n",
        "print(\"Day: \",end=\"\")\n",
        "print(current_time.day)\n",
        "\n",
        "print(\"Hour: \",end=\"\")\n",
        "print(current_time.hour)\n",
        "\n",
        "print(\"Minute: \",end=\"\")\n",
        "print(current_time.minute)\n",
        "\n",
        "print(\"Second: \",end=\"\")\n",
        "print(current_time.second)\n",
        "\n",
        "print(\"Microsecond: \",end=\"\")\n",
        "print(current_time.microsecond)"
      ],
      "metadata": {
        "colab": {
          "base_uri": "https://localhost:8080/"
        },
        "id": "d5741a0N8MmP",
        "outputId": "a409a533-8903-4f5c-e528-0a0e3c910d19"
      },
      "execution_count": 4,
      "outputs": [
        {
          "output_type": "stream",
          "name": "stdout",
          "text": [
            "The attributes of now() are : \n",
            "Year: 2022\n",
            "Month: 2\n",
            "Day: 2\n",
            "Hour: 5\n",
            "Minute: 53\n",
            "Second: 49\n",
            "Microsecond: 413309\n"
          ]
        }
      ]
    },
    {
      "cell_type": "code",
      "source": [
        ""
      ],
      "metadata": {
        "id": "qVZQSdry_wYw"
      },
      "execution_count": null,
      "outputs": []
    }
  ]
}